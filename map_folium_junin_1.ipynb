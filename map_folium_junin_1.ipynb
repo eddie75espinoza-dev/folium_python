{
 "cells": [
  {
   "cell_type": "code",
   "execution_count": 1,
   "metadata": {},
   "outputs": [],
   "source": [
    "import folium"
   ]
  },
  {
   "cell_type": "code",
   "execution_count": 2,
   "metadata": {},
   "outputs": [],
   "source": [
    "#crear un mapa centrado en las coordenadas\n",
    "mapa = folium.Map(location=[-34.599,-58.397], zoom_start=25)"
   ]
  },
  {
   "cell_type": "code",
   "execution_count": 3,
   "metadata": {},
   "outputs": [
    {
     "data": {
      "text/plain": [
       "<folium.map.Marker at 0x1fdc4553970>"
      ]
     },
     "execution_count": 3,
     "metadata": {},
     "output_type": "execute_result"
    }
   ],
   "source": [
    "#agregar marcadores en las coordenadas\n",
    "folium.Marker(\n",
    "    location=[-34.599274, -58.397186], \n",
    "    icon=folium.Icon(color=\"red\"),\n",
    "    popup=\"Junin 831\",\n",
    "    ).add_to(mapa)"
   ]
  },
  {
   "cell_type": "code",
   "execution_count": 4,
   "metadata": {},
   "outputs": [
    {
     "data": {
      "text/plain": [
       "<folium.map.Marker at 0x1fdc4550c40>"
      ]
     },
     "execution_count": 4,
     "metadata": {},
     "output_type": "execute_result"
    }
   ],
   "source": [
    "folium.Marker(\n",
    "    location=[-34.598870, -58.397202], \n",
    "    icon=folium.Icon(color=\"red\"),\n",
    "    popup=\"Junin 879\",\n",
    "    ).add_to(mapa)"
   ]
  },
  {
   "cell_type": "code",
   "execution_count": 5,
   "metadata": {},
   "outputs": [
    {
     "data": {
      "text/plain": [
       "<folium.map.Marker at 0x1fdc4552a10>"
      ]
     },
     "execution_count": 5,
     "metadata": {},
     "output_type": "execute_result"
    }
   ],
   "source": [
    "folium.Marker(\n",
    "    location=[-34.598975, -58.397142], \n",
    "    icon=folium.Icon(color=\"blue\")\n",
    "    ).add_to(mapa)"
   ]
  },
  {
   "cell_type": "code",
   "execution_count": 6,
   "metadata": {},
   "outputs": [
    {
     "data": {
      "text/plain": [
       "<folium.map.Marker at 0x1fdc4552620>"
      ]
     },
     "execution_count": 6,
     "metadata": {},
     "output_type": "execute_result"
    }
   ],
   "source": [
    "folium.Marker(\n",
    "    location=[-34.599137, -58.397067], \n",
    "    icon=folium.Icon(color=\"green\")\n",
    "    ).add_to(mapa)"
   ]
  },
  {
   "cell_type": "code",
   "execution_count": 7,
   "metadata": {},
   "outputs": [
    {
     "data": {
      "text/plain": [
       "<folium.map.Marker at 0x1fdc45527a0>"
      ]
     },
     "execution_count": 7,
     "metadata": {},
     "output_type": "execute_result"
    }
   ],
   "source": [
    "folium.Marker(\n",
    "    location=[-34.5993, -58.396991], \n",
    "    icon=folium.Icon(color=\"purple\")\n",
    "    ).add_to(mapa)"
   ]
  },
  {
   "cell_type": "code",
   "execution_count": 8,
   "metadata": {},
   "outputs": [
    {
     "data": {
      "text/plain": [
       "<folium.map.Marker at 0x1fdc4552680>"
      ]
     },
     "execution_count": 8,
     "metadata": {},
     "output_type": "execute_result"
    }
   ],
   "source": [
    "folium.Marker(\n",
    "    location=[-34.599462, -58.396916], \n",
    "    icon=folium.Icon(color=\"orange\")\n",
    "    ).add_to(mapa)"
   ]
  },
  {
   "cell_type": "code",
   "execution_count": 9,
   "metadata": {},
   "outputs": [
    {
     "data": {
      "text/plain": [
       "<folium.map.Marker at 0x1fdc4552140>"
      ]
     },
     "execution_count": 9,
     "metadata": {},
     "output_type": "execute_result"
    }
   ],
   "source": [
    "folium.Marker(\n",
    "    location=[-34.599625, -58.396841], \n",
    "    icon=folium.Icon(color=\"darkred\")\n",
    "    ).add_to(mapa)"
   ]
  },
  {
   "cell_type": "code",
   "execution_count": 10,
   "metadata": {},
   "outputs": [
    {
     "data": {
      "text/plain": [
       "<folium.map.Marker at 0x1fdc4553370>"
      ]
     },
     "execution_count": 10,
     "metadata": {},
     "output_type": "execute_result"
    }
   ],
   "source": [
    "folium.Marker(\n",
    "    location=[-34.599788, -58.396766], \n",
    "    icon=folium.Icon(color=\"cadetblue\")\n",
    "    ).add_to(mapa)"
   ]
  },
  {
   "cell_type": "code",
   "execution_count": 11,
   "metadata": {},
   "outputs": [
    {
     "data": {
      "text/plain": [
       "<folium.map.Marker at 0x1fdc4550b20>"
      ]
     },
     "execution_count": 11,
     "metadata": {},
     "output_type": "execute_result"
    }
   ],
   "source": [
    "folium.Marker(\n",
    "    location=[-34.59995, -58.39669], \n",
    "    icon=folium.Icon(color=\"pink\")\n",
    "    ).add_to(mapa)"
   ]
  },
  {
   "cell_type": "code",
   "execution_count": 12,
   "metadata": {},
   "outputs": [
    {
     "data": {
      "text/plain": [
       "<folium.map.Marker at 0x1fdc4552800>"
      ]
     },
     "execution_count": 12,
     "metadata": {},
     "output_type": "execute_result"
    }
   ],
   "source": [
    "folium.Marker(\n",
    "    location=[-34.600113, -58.396615], \n",
    "    icon=folium.Icon(color=\"gray\")\n",
    "    ).add_to(mapa)"
   ]
  },
  {
   "cell_type": "code",
   "execution_count": 13,
   "metadata": {},
   "outputs": [
    {
     "data": {
      "text/html": [
       "<div style=\"width:100%;\"><div style=\"position:relative;width:100%;height:0;padding-bottom:60%;\"><span style=\"color:#565656\">Make this Notebook Trusted to load map: File -> Trust Notebook</span><iframe srcdoc=\"&lt;!DOCTYPE html&gt;\n",
       "&lt;html&gt;\n",
       "&lt;head&gt;\n",
       "    \n",
       "    &lt;meta http-equiv=&quot;content-type&quot; content=&quot;text/html; charset=UTF-8&quot; /&gt;\n",
       "    \n",
       "        &lt;script&gt;\n",
       "            L_NO_TOUCH = false;\n",
       "            L_DISABLE_3D = false;\n",
       "        &lt;/script&gt;\n",
       "    \n",
       "    &lt;style&gt;html, body {width: 100%;height: 100%;margin: 0;padding: 0;}&lt;/style&gt;\n",
       "    &lt;style&gt;#map {position:absolute;top:0;bottom:0;right:0;left:0;}&lt;/style&gt;\n",
       "    &lt;script src=&quot;https://cdn.jsdelivr.net/npm/leaflet@1.9.3/dist/leaflet.js&quot;&gt;&lt;/script&gt;\n",
       "    &lt;script src=&quot;https://code.jquery.com/jquery-1.12.4.min.js&quot;&gt;&lt;/script&gt;\n",
       "    &lt;script src=&quot;https://cdn.jsdelivr.net/npm/bootstrap@5.2.2/dist/js/bootstrap.bundle.min.js&quot;&gt;&lt;/script&gt;\n",
       "    &lt;script src=&quot;https://cdnjs.cloudflare.com/ajax/libs/Leaflet.awesome-markers/2.0.2/leaflet.awesome-markers.js&quot;&gt;&lt;/script&gt;\n",
       "    &lt;link rel=&quot;stylesheet&quot; href=&quot;https://cdn.jsdelivr.net/npm/leaflet@1.9.3/dist/leaflet.css&quot;/&gt;\n",
       "    &lt;link rel=&quot;stylesheet&quot; href=&quot;https://cdn.jsdelivr.net/npm/bootstrap@5.2.2/dist/css/bootstrap.min.css&quot;/&gt;\n",
       "    &lt;link rel=&quot;stylesheet&quot; href=&quot;https://netdna.bootstrapcdn.com/bootstrap/3.0.0/css/bootstrap.min.css&quot;/&gt;\n",
       "    &lt;link rel=&quot;stylesheet&quot; href=&quot;https://cdn.jsdelivr.net/npm/@fortawesome/fontawesome-free@6.2.0/css/all.min.css&quot;/&gt;\n",
       "    &lt;link rel=&quot;stylesheet&quot; href=&quot;https://cdnjs.cloudflare.com/ajax/libs/Leaflet.awesome-markers/2.0.2/leaflet.awesome-markers.css&quot;/&gt;\n",
       "    &lt;link rel=&quot;stylesheet&quot; href=&quot;https://cdn.jsdelivr.net/gh/python-visualization/folium/folium/templates/leaflet.awesome.rotate.min.css&quot;/&gt;\n",
       "    \n",
       "            &lt;meta name=&quot;viewport&quot; content=&quot;width=device-width,\n",
       "                initial-scale=1.0, maximum-scale=1.0, user-scalable=no&quot; /&gt;\n",
       "            &lt;style&gt;\n",
       "                #map_0a3c097b8c3bbea2a4dd248ba6c313ca {\n",
       "                    position: relative;\n",
       "                    width: 100.0%;\n",
       "                    height: 100.0%;\n",
       "                    left: 0.0%;\n",
       "                    top: 0.0%;\n",
       "                }\n",
       "                .leaflet-container { font-size: 1rem; }\n",
       "            &lt;/style&gt;\n",
       "        \n",
       "&lt;/head&gt;\n",
       "&lt;body&gt;\n",
       "    \n",
       "    \n",
       "            &lt;div class=&quot;folium-map&quot; id=&quot;map_0a3c097b8c3bbea2a4dd248ba6c313ca&quot; &gt;&lt;/div&gt;\n",
       "        \n",
       "&lt;/body&gt;\n",
       "&lt;script&gt;\n",
       "    \n",
       "    \n",
       "            var map_0a3c097b8c3bbea2a4dd248ba6c313ca = L.map(\n",
       "                &quot;map_0a3c097b8c3bbea2a4dd248ba6c313ca&quot;,\n",
       "                {\n",
       "                    center: [-34.599, -58.397],\n",
       "                    crs: L.CRS.EPSG3857,\n",
       "                    zoom: 25,\n",
       "                    zoomControl: true,\n",
       "                    preferCanvas: false,\n",
       "                }\n",
       "            );\n",
       "\n",
       "            \n",
       "\n",
       "        \n",
       "    \n",
       "            var tile_layer_c78ab984b5a5210c0ab8c6557dfcf94d = L.tileLayer(\n",
       "                &quot;https://{s}.tile.openstreetmap.org/{z}/{x}/{y}.png&quot;,\n",
       "                {&quot;attribution&quot;: &quot;Data by \\u0026copy; \\u003ca target=\\&quot;_blank\\&quot; href=\\&quot;http://openstreetmap.org\\&quot;\\u003eOpenStreetMap\\u003c/a\\u003e, under \\u003ca target=\\&quot;_blank\\&quot; href=\\&quot;http://www.openstreetmap.org/copyright\\&quot;\\u003eODbL\\u003c/a\\u003e.&quot;, &quot;detectRetina&quot;: false, &quot;maxNativeZoom&quot;: 18, &quot;maxZoom&quot;: 18, &quot;minZoom&quot;: 0, &quot;noWrap&quot;: false, &quot;opacity&quot;: 1, &quot;subdomains&quot;: &quot;abc&quot;, &quot;tms&quot;: false}\n",
       "            ).addTo(map_0a3c097b8c3bbea2a4dd248ba6c313ca);\n",
       "        \n",
       "    \n",
       "            var marker_702bb81e504a0e3105043a862c90c0e9 = L.marker(\n",
       "                [-34.599274, -58.397186],\n",
       "                {}\n",
       "            ).addTo(map_0a3c097b8c3bbea2a4dd248ba6c313ca);\n",
       "        \n",
       "    \n",
       "            var icon_a0d0458f0f447e352f8c46ef2a35cdfc = L.AwesomeMarkers.icon(\n",
       "                {&quot;extraClasses&quot;: &quot;fa-rotate-0&quot;, &quot;icon&quot;: &quot;info-sign&quot;, &quot;iconColor&quot;: &quot;white&quot;, &quot;markerColor&quot;: &quot;red&quot;, &quot;prefix&quot;: &quot;glyphicon&quot;}\n",
       "            );\n",
       "            marker_702bb81e504a0e3105043a862c90c0e9.setIcon(icon_a0d0458f0f447e352f8c46ef2a35cdfc);\n",
       "        \n",
       "    \n",
       "        var popup_b03e20390da5aa63b4fb7bca3091e39d = L.popup({&quot;maxWidth&quot;: &quot;100%&quot;});\n",
       "\n",
       "        \n",
       "            \n",
       "                var html_65cc08e2510dd1c647ba39d5ea894bc2 = $(`&lt;div id=&quot;html_65cc08e2510dd1c647ba39d5ea894bc2&quot; style=&quot;width: 100.0%; height: 100.0%;&quot;&gt;Junin 831&lt;/div&gt;`)[0];\n",
       "                popup_b03e20390da5aa63b4fb7bca3091e39d.setContent(html_65cc08e2510dd1c647ba39d5ea894bc2);\n",
       "            \n",
       "        \n",
       "\n",
       "        marker_702bb81e504a0e3105043a862c90c0e9.bindPopup(popup_b03e20390da5aa63b4fb7bca3091e39d)\n",
       "        ;\n",
       "\n",
       "        \n",
       "    \n",
       "    \n",
       "            var marker_368d5759da7665bce98c945ef7641868 = L.marker(\n",
       "                [-34.59887, -58.397202],\n",
       "                {}\n",
       "            ).addTo(map_0a3c097b8c3bbea2a4dd248ba6c313ca);\n",
       "        \n",
       "    \n",
       "            var icon_7778684f026c06dc1bc4218280b9cafc = L.AwesomeMarkers.icon(\n",
       "                {&quot;extraClasses&quot;: &quot;fa-rotate-0&quot;, &quot;icon&quot;: &quot;info-sign&quot;, &quot;iconColor&quot;: &quot;white&quot;, &quot;markerColor&quot;: &quot;red&quot;, &quot;prefix&quot;: &quot;glyphicon&quot;}\n",
       "            );\n",
       "            marker_368d5759da7665bce98c945ef7641868.setIcon(icon_7778684f026c06dc1bc4218280b9cafc);\n",
       "        \n",
       "    \n",
       "        var popup_9851290ca14ebb346932823d0e21ae2b = L.popup({&quot;maxWidth&quot;: &quot;100%&quot;});\n",
       "\n",
       "        \n",
       "            \n",
       "                var html_5af1b1584ebbcbad8fe135e6d20567eb = $(`&lt;div id=&quot;html_5af1b1584ebbcbad8fe135e6d20567eb&quot; style=&quot;width: 100.0%; height: 100.0%;&quot;&gt;Junin 879&lt;/div&gt;`)[0];\n",
       "                popup_9851290ca14ebb346932823d0e21ae2b.setContent(html_5af1b1584ebbcbad8fe135e6d20567eb);\n",
       "            \n",
       "        \n",
       "\n",
       "        marker_368d5759da7665bce98c945ef7641868.bindPopup(popup_9851290ca14ebb346932823d0e21ae2b)\n",
       "        ;\n",
       "\n",
       "        \n",
       "    \n",
       "    \n",
       "            var marker_978ae2ae716299f433368277ac78904d = L.marker(\n",
       "                [-34.598975, -58.397142],\n",
       "                {}\n",
       "            ).addTo(map_0a3c097b8c3bbea2a4dd248ba6c313ca);\n",
       "        \n",
       "    \n",
       "            var icon_5622700813c867fca01f589d6eb3bbd6 = L.AwesomeMarkers.icon(\n",
       "                {&quot;extraClasses&quot;: &quot;fa-rotate-0&quot;, &quot;icon&quot;: &quot;info-sign&quot;, &quot;iconColor&quot;: &quot;white&quot;, &quot;markerColor&quot;: &quot;blue&quot;, &quot;prefix&quot;: &quot;glyphicon&quot;}\n",
       "            );\n",
       "            marker_978ae2ae716299f433368277ac78904d.setIcon(icon_5622700813c867fca01f589d6eb3bbd6);\n",
       "        \n",
       "    \n",
       "            var marker_bcf55bbb384ccdb5b63ba84ef34c7b95 = L.marker(\n",
       "                [-34.599137, -58.397067],\n",
       "                {}\n",
       "            ).addTo(map_0a3c097b8c3bbea2a4dd248ba6c313ca);\n",
       "        \n",
       "    \n",
       "            var icon_6f43df417a267f84fc9018099902d9c7 = L.AwesomeMarkers.icon(\n",
       "                {&quot;extraClasses&quot;: &quot;fa-rotate-0&quot;, &quot;icon&quot;: &quot;info-sign&quot;, &quot;iconColor&quot;: &quot;white&quot;, &quot;markerColor&quot;: &quot;green&quot;, &quot;prefix&quot;: &quot;glyphicon&quot;}\n",
       "            );\n",
       "            marker_bcf55bbb384ccdb5b63ba84ef34c7b95.setIcon(icon_6f43df417a267f84fc9018099902d9c7);\n",
       "        \n",
       "    \n",
       "            var marker_5cf1cd5f114161eb7b16aa728d4f2b28 = L.marker(\n",
       "                [-34.5993, -58.396991],\n",
       "                {}\n",
       "            ).addTo(map_0a3c097b8c3bbea2a4dd248ba6c313ca);\n",
       "        \n",
       "    \n",
       "            var icon_952bd43fe87e7c554482674dd12c7184 = L.AwesomeMarkers.icon(\n",
       "                {&quot;extraClasses&quot;: &quot;fa-rotate-0&quot;, &quot;icon&quot;: &quot;info-sign&quot;, &quot;iconColor&quot;: &quot;white&quot;, &quot;markerColor&quot;: &quot;purple&quot;, &quot;prefix&quot;: &quot;glyphicon&quot;}\n",
       "            );\n",
       "            marker_5cf1cd5f114161eb7b16aa728d4f2b28.setIcon(icon_952bd43fe87e7c554482674dd12c7184);\n",
       "        \n",
       "    \n",
       "            var marker_2c7bf0c9828c7c55e76318a3bf6bd802 = L.marker(\n",
       "                [-34.599462, -58.396916],\n",
       "                {}\n",
       "            ).addTo(map_0a3c097b8c3bbea2a4dd248ba6c313ca);\n",
       "        \n",
       "    \n",
       "            var icon_586c36afee18a5436d68912d2a91ef3e = L.AwesomeMarkers.icon(\n",
       "                {&quot;extraClasses&quot;: &quot;fa-rotate-0&quot;, &quot;icon&quot;: &quot;info-sign&quot;, &quot;iconColor&quot;: &quot;white&quot;, &quot;markerColor&quot;: &quot;orange&quot;, &quot;prefix&quot;: &quot;glyphicon&quot;}\n",
       "            );\n",
       "            marker_2c7bf0c9828c7c55e76318a3bf6bd802.setIcon(icon_586c36afee18a5436d68912d2a91ef3e);\n",
       "        \n",
       "    \n",
       "            var marker_b1fff1b5769e453794381c34e483a0b2 = L.marker(\n",
       "                [-34.599625, -58.396841],\n",
       "                {}\n",
       "            ).addTo(map_0a3c097b8c3bbea2a4dd248ba6c313ca);\n",
       "        \n",
       "    \n",
       "            var icon_9e7da6bee1596ba17c5c5af6319be8d9 = L.AwesomeMarkers.icon(\n",
       "                {&quot;extraClasses&quot;: &quot;fa-rotate-0&quot;, &quot;icon&quot;: &quot;info-sign&quot;, &quot;iconColor&quot;: &quot;white&quot;, &quot;markerColor&quot;: &quot;darkred&quot;, &quot;prefix&quot;: &quot;glyphicon&quot;}\n",
       "            );\n",
       "            marker_b1fff1b5769e453794381c34e483a0b2.setIcon(icon_9e7da6bee1596ba17c5c5af6319be8d9);\n",
       "        \n",
       "    \n",
       "            var marker_fb838ab5301e12766786faa2075e3824 = L.marker(\n",
       "                [-34.599788, -58.396766],\n",
       "                {}\n",
       "            ).addTo(map_0a3c097b8c3bbea2a4dd248ba6c313ca);\n",
       "        \n",
       "    \n",
       "            var icon_7920247c429fe418acd547710ca6941d = L.AwesomeMarkers.icon(\n",
       "                {&quot;extraClasses&quot;: &quot;fa-rotate-0&quot;, &quot;icon&quot;: &quot;info-sign&quot;, &quot;iconColor&quot;: &quot;white&quot;, &quot;markerColor&quot;: &quot;cadetblue&quot;, &quot;prefix&quot;: &quot;glyphicon&quot;}\n",
       "            );\n",
       "            marker_fb838ab5301e12766786faa2075e3824.setIcon(icon_7920247c429fe418acd547710ca6941d);\n",
       "        \n",
       "    \n",
       "            var marker_3d9a139270170f7b52ab8e7f31eb54ea = L.marker(\n",
       "                [-34.59995, -58.39669],\n",
       "                {}\n",
       "            ).addTo(map_0a3c097b8c3bbea2a4dd248ba6c313ca);\n",
       "        \n",
       "    \n",
       "            var icon_b89d4495097063c558144d02d50094c0 = L.AwesomeMarkers.icon(\n",
       "                {&quot;extraClasses&quot;: &quot;fa-rotate-0&quot;, &quot;icon&quot;: &quot;info-sign&quot;, &quot;iconColor&quot;: &quot;white&quot;, &quot;markerColor&quot;: &quot;pink&quot;, &quot;prefix&quot;: &quot;glyphicon&quot;}\n",
       "            );\n",
       "            marker_3d9a139270170f7b52ab8e7f31eb54ea.setIcon(icon_b89d4495097063c558144d02d50094c0);\n",
       "        \n",
       "    \n",
       "            var marker_281463dedf094779ea0f8fd6e8b48310 = L.marker(\n",
       "                [-34.600113, -58.396615],\n",
       "                {}\n",
       "            ).addTo(map_0a3c097b8c3bbea2a4dd248ba6c313ca);\n",
       "        \n",
       "    \n",
       "            var icon_88218f535bc5d30f9c9cf30d641faeb2 = L.AwesomeMarkers.icon(\n",
       "                {&quot;extraClasses&quot;: &quot;fa-rotate-0&quot;, &quot;icon&quot;: &quot;info-sign&quot;, &quot;iconColor&quot;: &quot;white&quot;, &quot;markerColor&quot;: &quot;gray&quot;, &quot;prefix&quot;: &quot;glyphicon&quot;}\n",
       "            );\n",
       "            marker_281463dedf094779ea0f8fd6e8b48310.setIcon(icon_88218f535bc5d30f9c9cf30d641faeb2);\n",
       "        \n",
       "    \n",
       "                var lat_lng_popup_132e6a734ee63337dca52feaf478bdca = L.popup();\n",
       "                function latLngPop(e) {\n",
       "                    lat_lng_popup_132e6a734ee63337dca52feaf478bdca\n",
       "                        .setLatLng(e.latlng)\n",
       "                        .setContent(&quot;Latitude: &quot; + e.latlng.lat.toFixed(4) +\n",
       "                                    &quot;&lt;br&gt;Longitude: &quot; + e.latlng.lng.toFixed(4))\n",
       "                        .openOn(map_0a3c097b8c3bbea2a4dd248ba6c313ca);\n",
       "                    }\n",
       "                map_0a3c097b8c3bbea2a4dd248ba6c313ca.on(&#x27;click&#x27;, latLngPop);\n",
       "            \n",
       "&lt;/script&gt;\n",
       "&lt;/html&gt;\" style=\"position:absolute;width:100%;height:100%;left:0;top:0;border:none !important;\" allowfullscreen webkitallowfullscreen mozallowfullscreen></iframe></div></div>"
      ],
      "text/plain": [
       "<folium.folium.Map at 0x1fdb3cf10c0>"
      ]
     },
     "execution_count": 13,
     "metadata": {},
     "output_type": "execute_result"
    }
   ],
   "source": [
    "mapa.add_child(folium.LatLngPopup())"
   ]
  },
  {
   "cell_type": "code",
   "execution_count": 14,
   "metadata": {},
   "outputs": [
    {
     "data": {
      "text/html": [
       "<div style=\"width:100%;\"><div style=\"position:relative;width:100%;height:0;padding-bottom:60%;\"><span style=\"color:#565656\">Make this Notebook Trusted to load map: File -> Trust Notebook</span><iframe srcdoc=\"&lt;!DOCTYPE html&gt;\n",
       "&lt;html&gt;\n",
       "&lt;head&gt;\n",
       "    \n",
       "    &lt;meta http-equiv=&quot;content-type&quot; content=&quot;text/html; charset=UTF-8&quot; /&gt;\n",
       "    \n",
       "        &lt;script&gt;\n",
       "            L_NO_TOUCH = false;\n",
       "            L_DISABLE_3D = false;\n",
       "        &lt;/script&gt;\n",
       "    \n",
       "    &lt;style&gt;html, body {width: 100%;height: 100%;margin: 0;padding: 0;}&lt;/style&gt;\n",
       "    &lt;style&gt;#map {position:absolute;top:0;bottom:0;right:0;left:0;}&lt;/style&gt;\n",
       "    &lt;script src=&quot;https://cdn.jsdelivr.net/npm/leaflet@1.9.3/dist/leaflet.js&quot;&gt;&lt;/script&gt;\n",
       "    &lt;script src=&quot;https://code.jquery.com/jquery-1.12.4.min.js&quot;&gt;&lt;/script&gt;\n",
       "    &lt;script src=&quot;https://cdn.jsdelivr.net/npm/bootstrap@5.2.2/dist/js/bootstrap.bundle.min.js&quot;&gt;&lt;/script&gt;\n",
       "    &lt;script src=&quot;https://cdnjs.cloudflare.com/ajax/libs/Leaflet.awesome-markers/2.0.2/leaflet.awesome-markers.js&quot;&gt;&lt;/script&gt;\n",
       "    &lt;link rel=&quot;stylesheet&quot; href=&quot;https://cdn.jsdelivr.net/npm/leaflet@1.9.3/dist/leaflet.css&quot;/&gt;\n",
       "    &lt;link rel=&quot;stylesheet&quot; href=&quot;https://cdn.jsdelivr.net/npm/bootstrap@5.2.2/dist/css/bootstrap.min.css&quot;/&gt;\n",
       "    &lt;link rel=&quot;stylesheet&quot; href=&quot;https://netdna.bootstrapcdn.com/bootstrap/3.0.0/css/bootstrap.min.css&quot;/&gt;\n",
       "    &lt;link rel=&quot;stylesheet&quot; href=&quot;https://cdn.jsdelivr.net/npm/@fortawesome/fontawesome-free@6.2.0/css/all.min.css&quot;/&gt;\n",
       "    &lt;link rel=&quot;stylesheet&quot; href=&quot;https://cdnjs.cloudflare.com/ajax/libs/Leaflet.awesome-markers/2.0.2/leaflet.awesome-markers.css&quot;/&gt;\n",
       "    &lt;link rel=&quot;stylesheet&quot; href=&quot;https://cdn.jsdelivr.net/gh/python-visualization/folium/folium/templates/leaflet.awesome.rotate.min.css&quot;/&gt;\n",
       "    \n",
       "            &lt;meta name=&quot;viewport&quot; content=&quot;width=device-width,\n",
       "                initial-scale=1.0, maximum-scale=1.0, user-scalable=no&quot; /&gt;\n",
       "            &lt;style&gt;\n",
       "                #map_0a3c097b8c3bbea2a4dd248ba6c313ca {\n",
       "                    position: relative;\n",
       "                    width: 100.0%;\n",
       "                    height: 100.0%;\n",
       "                    left: 0.0%;\n",
       "                    top: 0.0%;\n",
       "                }\n",
       "                .leaflet-container { font-size: 1rem; }\n",
       "            &lt;/style&gt;\n",
       "        \n",
       "&lt;/head&gt;\n",
       "&lt;body&gt;\n",
       "    \n",
       "    \n",
       "            &lt;div class=&quot;folium-map&quot; id=&quot;map_0a3c097b8c3bbea2a4dd248ba6c313ca&quot; &gt;&lt;/div&gt;\n",
       "        \n",
       "&lt;/body&gt;\n",
       "&lt;script&gt;\n",
       "    \n",
       "    \n",
       "            var map_0a3c097b8c3bbea2a4dd248ba6c313ca = L.map(\n",
       "                &quot;map_0a3c097b8c3bbea2a4dd248ba6c313ca&quot;,\n",
       "                {\n",
       "                    center: [-34.599, -58.397],\n",
       "                    crs: L.CRS.EPSG3857,\n",
       "                    zoom: 25,\n",
       "                    zoomControl: true,\n",
       "                    preferCanvas: false,\n",
       "                }\n",
       "            );\n",
       "\n",
       "            \n",
       "\n",
       "        \n",
       "    \n",
       "            var tile_layer_c78ab984b5a5210c0ab8c6557dfcf94d = L.tileLayer(\n",
       "                &quot;https://{s}.tile.openstreetmap.org/{z}/{x}/{y}.png&quot;,\n",
       "                {&quot;attribution&quot;: &quot;Data by \\u0026copy; \\u003ca target=\\&quot;_blank\\&quot; href=\\&quot;http://openstreetmap.org\\&quot;\\u003eOpenStreetMap\\u003c/a\\u003e, under \\u003ca target=\\&quot;_blank\\&quot; href=\\&quot;http://www.openstreetmap.org/copyright\\&quot;\\u003eODbL\\u003c/a\\u003e.&quot;, &quot;detectRetina&quot;: false, &quot;maxNativeZoom&quot;: 18, &quot;maxZoom&quot;: 18, &quot;minZoom&quot;: 0, &quot;noWrap&quot;: false, &quot;opacity&quot;: 1, &quot;subdomains&quot;: &quot;abc&quot;, &quot;tms&quot;: false}\n",
       "            ).addTo(map_0a3c097b8c3bbea2a4dd248ba6c313ca);\n",
       "        \n",
       "    \n",
       "            var marker_702bb81e504a0e3105043a862c90c0e9 = L.marker(\n",
       "                [-34.599274, -58.397186],\n",
       "                {}\n",
       "            ).addTo(map_0a3c097b8c3bbea2a4dd248ba6c313ca);\n",
       "        \n",
       "    \n",
       "            var icon_a0d0458f0f447e352f8c46ef2a35cdfc = L.AwesomeMarkers.icon(\n",
       "                {&quot;extraClasses&quot;: &quot;fa-rotate-0&quot;, &quot;icon&quot;: &quot;info-sign&quot;, &quot;iconColor&quot;: &quot;white&quot;, &quot;markerColor&quot;: &quot;red&quot;, &quot;prefix&quot;: &quot;glyphicon&quot;}\n",
       "            );\n",
       "            marker_702bb81e504a0e3105043a862c90c0e9.setIcon(icon_a0d0458f0f447e352f8c46ef2a35cdfc);\n",
       "        \n",
       "    \n",
       "        var popup_b03e20390da5aa63b4fb7bca3091e39d = L.popup({&quot;maxWidth&quot;: &quot;100%&quot;});\n",
       "\n",
       "        \n",
       "            \n",
       "                var html_65cc08e2510dd1c647ba39d5ea894bc2 = $(`&lt;div id=&quot;html_65cc08e2510dd1c647ba39d5ea894bc2&quot; style=&quot;width: 100.0%; height: 100.0%;&quot;&gt;Junin 831&lt;/div&gt;`)[0];\n",
       "                popup_b03e20390da5aa63b4fb7bca3091e39d.setContent(html_65cc08e2510dd1c647ba39d5ea894bc2);\n",
       "            \n",
       "        \n",
       "\n",
       "        marker_702bb81e504a0e3105043a862c90c0e9.bindPopup(popup_b03e20390da5aa63b4fb7bca3091e39d)\n",
       "        ;\n",
       "\n",
       "        \n",
       "    \n",
       "    \n",
       "            var marker_368d5759da7665bce98c945ef7641868 = L.marker(\n",
       "                [-34.59887, -58.397202],\n",
       "                {}\n",
       "            ).addTo(map_0a3c097b8c3bbea2a4dd248ba6c313ca);\n",
       "        \n",
       "    \n",
       "            var icon_7778684f026c06dc1bc4218280b9cafc = L.AwesomeMarkers.icon(\n",
       "                {&quot;extraClasses&quot;: &quot;fa-rotate-0&quot;, &quot;icon&quot;: &quot;info-sign&quot;, &quot;iconColor&quot;: &quot;white&quot;, &quot;markerColor&quot;: &quot;red&quot;, &quot;prefix&quot;: &quot;glyphicon&quot;}\n",
       "            );\n",
       "            marker_368d5759da7665bce98c945ef7641868.setIcon(icon_7778684f026c06dc1bc4218280b9cafc);\n",
       "        \n",
       "    \n",
       "        var popup_9851290ca14ebb346932823d0e21ae2b = L.popup({&quot;maxWidth&quot;: &quot;100%&quot;});\n",
       "\n",
       "        \n",
       "            \n",
       "                var html_5af1b1584ebbcbad8fe135e6d20567eb = $(`&lt;div id=&quot;html_5af1b1584ebbcbad8fe135e6d20567eb&quot; style=&quot;width: 100.0%; height: 100.0%;&quot;&gt;Junin 879&lt;/div&gt;`)[0];\n",
       "                popup_9851290ca14ebb346932823d0e21ae2b.setContent(html_5af1b1584ebbcbad8fe135e6d20567eb);\n",
       "            \n",
       "        \n",
       "\n",
       "        marker_368d5759da7665bce98c945ef7641868.bindPopup(popup_9851290ca14ebb346932823d0e21ae2b)\n",
       "        ;\n",
       "\n",
       "        \n",
       "    \n",
       "    \n",
       "            var marker_978ae2ae716299f433368277ac78904d = L.marker(\n",
       "                [-34.598975, -58.397142],\n",
       "                {}\n",
       "            ).addTo(map_0a3c097b8c3bbea2a4dd248ba6c313ca);\n",
       "        \n",
       "    \n",
       "            var icon_5622700813c867fca01f589d6eb3bbd6 = L.AwesomeMarkers.icon(\n",
       "                {&quot;extraClasses&quot;: &quot;fa-rotate-0&quot;, &quot;icon&quot;: &quot;info-sign&quot;, &quot;iconColor&quot;: &quot;white&quot;, &quot;markerColor&quot;: &quot;blue&quot;, &quot;prefix&quot;: &quot;glyphicon&quot;}\n",
       "            );\n",
       "            marker_978ae2ae716299f433368277ac78904d.setIcon(icon_5622700813c867fca01f589d6eb3bbd6);\n",
       "        \n",
       "    \n",
       "            var marker_bcf55bbb384ccdb5b63ba84ef34c7b95 = L.marker(\n",
       "                [-34.599137, -58.397067],\n",
       "                {}\n",
       "            ).addTo(map_0a3c097b8c3bbea2a4dd248ba6c313ca);\n",
       "        \n",
       "    \n",
       "            var icon_6f43df417a267f84fc9018099902d9c7 = L.AwesomeMarkers.icon(\n",
       "                {&quot;extraClasses&quot;: &quot;fa-rotate-0&quot;, &quot;icon&quot;: &quot;info-sign&quot;, &quot;iconColor&quot;: &quot;white&quot;, &quot;markerColor&quot;: &quot;green&quot;, &quot;prefix&quot;: &quot;glyphicon&quot;}\n",
       "            );\n",
       "            marker_bcf55bbb384ccdb5b63ba84ef34c7b95.setIcon(icon_6f43df417a267f84fc9018099902d9c7);\n",
       "        \n",
       "    \n",
       "            var marker_5cf1cd5f114161eb7b16aa728d4f2b28 = L.marker(\n",
       "                [-34.5993, -58.396991],\n",
       "                {}\n",
       "            ).addTo(map_0a3c097b8c3bbea2a4dd248ba6c313ca);\n",
       "        \n",
       "    \n",
       "            var icon_952bd43fe87e7c554482674dd12c7184 = L.AwesomeMarkers.icon(\n",
       "                {&quot;extraClasses&quot;: &quot;fa-rotate-0&quot;, &quot;icon&quot;: &quot;info-sign&quot;, &quot;iconColor&quot;: &quot;white&quot;, &quot;markerColor&quot;: &quot;purple&quot;, &quot;prefix&quot;: &quot;glyphicon&quot;}\n",
       "            );\n",
       "            marker_5cf1cd5f114161eb7b16aa728d4f2b28.setIcon(icon_952bd43fe87e7c554482674dd12c7184);\n",
       "        \n",
       "    \n",
       "            var marker_2c7bf0c9828c7c55e76318a3bf6bd802 = L.marker(\n",
       "                [-34.599462, -58.396916],\n",
       "                {}\n",
       "            ).addTo(map_0a3c097b8c3bbea2a4dd248ba6c313ca);\n",
       "        \n",
       "    \n",
       "            var icon_586c36afee18a5436d68912d2a91ef3e = L.AwesomeMarkers.icon(\n",
       "                {&quot;extraClasses&quot;: &quot;fa-rotate-0&quot;, &quot;icon&quot;: &quot;info-sign&quot;, &quot;iconColor&quot;: &quot;white&quot;, &quot;markerColor&quot;: &quot;orange&quot;, &quot;prefix&quot;: &quot;glyphicon&quot;}\n",
       "            );\n",
       "            marker_2c7bf0c9828c7c55e76318a3bf6bd802.setIcon(icon_586c36afee18a5436d68912d2a91ef3e);\n",
       "        \n",
       "    \n",
       "            var marker_b1fff1b5769e453794381c34e483a0b2 = L.marker(\n",
       "                [-34.599625, -58.396841],\n",
       "                {}\n",
       "            ).addTo(map_0a3c097b8c3bbea2a4dd248ba6c313ca);\n",
       "        \n",
       "    \n",
       "            var icon_9e7da6bee1596ba17c5c5af6319be8d9 = L.AwesomeMarkers.icon(\n",
       "                {&quot;extraClasses&quot;: &quot;fa-rotate-0&quot;, &quot;icon&quot;: &quot;info-sign&quot;, &quot;iconColor&quot;: &quot;white&quot;, &quot;markerColor&quot;: &quot;darkred&quot;, &quot;prefix&quot;: &quot;glyphicon&quot;}\n",
       "            );\n",
       "            marker_b1fff1b5769e453794381c34e483a0b2.setIcon(icon_9e7da6bee1596ba17c5c5af6319be8d9);\n",
       "        \n",
       "    \n",
       "            var marker_fb838ab5301e12766786faa2075e3824 = L.marker(\n",
       "                [-34.599788, -58.396766],\n",
       "                {}\n",
       "            ).addTo(map_0a3c097b8c3bbea2a4dd248ba6c313ca);\n",
       "        \n",
       "    \n",
       "            var icon_7920247c429fe418acd547710ca6941d = L.AwesomeMarkers.icon(\n",
       "                {&quot;extraClasses&quot;: &quot;fa-rotate-0&quot;, &quot;icon&quot;: &quot;info-sign&quot;, &quot;iconColor&quot;: &quot;white&quot;, &quot;markerColor&quot;: &quot;cadetblue&quot;, &quot;prefix&quot;: &quot;glyphicon&quot;}\n",
       "            );\n",
       "            marker_fb838ab5301e12766786faa2075e3824.setIcon(icon_7920247c429fe418acd547710ca6941d);\n",
       "        \n",
       "    \n",
       "            var marker_3d9a139270170f7b52ab8e7f31eb54ea = L.marker(\n",
       "                [-34.59995, -58.39669],\n",
       "                {}\n",
       "            ).addTo(map_0a3c097b8c3bbea2a4dd248ba6c313ca);\n",
       "        \n",
       "    \n",
       "            var icon_b89d4495097063c558144d02d50094c0 = L.AwesomeMarkers.icon(\n",
       "                {&quot;extraClasses&quot;: &quot;fa-rotate-0&quot;, &quot;icon&quot;: &quot;info-sign&quot;, &quot;iconColor&quot;: &quot;white&quot;, &quot;markerColor&quot;: &quot;pink&quot;, &quot;prefix&quot;: &quot;glyphicon&quot;}\n",
       "            );\n",
       "            marker_3d9a139270170f7b52ab8e7f31eb54ea.setIcon(icon_b89d4495097063c558144d02d50094c0);\n",
       "        \n",
       "    \n",
       "            var marker_281463dedf094779ea0f8fd6e8b48310 = L.marker(\n",
       "                [-34.600113, -58.396615],\n",
       "                {}\n",
       "            ).addTo(map_0a3c097b8c3bbea2a4dd248ba6c313ca);\n",
       "        \n",
       "    \n",
       "            var icon_88218f535bc5d30f9c9cf30d641faeb2 = L.AwesomeMarkers.icon(\n",
       "                {&quot;extraClasses&quot;: &quot;fa-rotate-0&quot;, &quot;icon&quot;: &quot;info-sign&quot;, &quot;iconColor&quot;: &quot;white&quot;, &quot;markerColor&quot;: &quot;gray&quot;, &quot;prefix&quot;: &quot;glyphicon&quot;}\n",
       "            );\n",
       "            marker_281463dedf094779ea0f8fd6e8b48310.setIcon(icon_88218f535bc5d30f9c9cf30d641faeb2);\n",
       "        \n",
       "    \n",
       "                var lat_lng_popup_132e6a734ee63337dca52feaf478bdca = L.popup();\n",
       "                function latLngPop(e) {\n",
       "                    lat_lng_popup_132e6a734ee63337dca52feaf478bdca\n",
       "                        .setLatLng(e.latlng)\n",
       "                        .setContent(&quot;Latitude: &quot; + e.latlng.lat.toFixed(4) +\n",
       "                                    &quot;&lt;br&gt;Longitude: &quot; + e.latlng.lng.toFixed(4))\n",
       "                        .openOn(map_0a3c097b8c3bbea2a4dd248ba6c313ca);\n",
       "                    }\n",
       "                map_0a3c097b8c3bbea2a4dd248ba6c313ca.on(&#x27;click&#x27;, latLngPop);\n",
       "            \n",
       "&lt;/script&gt;\n",
       "&lt;/html&gt;\" style=\"position:absolute;width:100%;height:100%;left:0;top:0;border:none !important;\" allowfullscreen webkitallowfullscreen mozallowfullscreen></iframe></div></div>"
      ],
      "text/plain": [
       "<folium.folium.Map at 0x1fdb3cf10c0>"
      ]
     },
     "execution_count": 14,
     "metadata": {},
     "output_type": "execute_result"
    }
   ],
   "source": [
    "mapa"
   ]
  }
 ],
 "metadata": {
  "kernelspec": {
   "display_name": "Python 3",
   "language": "python",
   "name": "python3"
  },
  "language_info": {
   "codemirror_mode": {
    "name": "ipython",
    "version": 3
   },
   "file_extension": ".py",
   "mimetype": "text/x-python",
   "name": "python",
   "nbconvert_exporter": "python",
   "pygments_lexer": "ipython3",
   "version": "3.10.9"
  },
  "orig_nbformat": 4,
  "vscode": {
   "interpreter": {
    "hash": "e6104bf604ca1a37923b4f279a3bc03307071c215727ed52dcf746e90ba65021"
   }
  }
 },
 "nbformat": 4,
 "nbformat_minor": 2
}
