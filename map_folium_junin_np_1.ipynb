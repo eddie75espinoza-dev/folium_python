{
 "cells": [
  {
   "cell_type": "code",
   "execution_count": 151,
   "metadata": {},
   "outputs": [],
   "source": [
    "import folium"
   ]
  },
  {
   "cell_type": "code",
   "execution_count": 152,
   "metadata": {},
   "outputs": [],
   "source": [
    "#crear un mapa centrado en las coordenadas\n",
    "mapa = folium.Map(location=[-34.599,-58.397], zoom_start=25)"
   ]
  },
  {
   "cell_type": "code",
   "execution_count": 153,
   "metadata": {},
   "outputs": [],
   "source": [
    "location=[\n",
    "    [-34.598735, -58.397207],\n",
    "    [-34.598819, -58.397204],\n",
    "    [-34.599325, -58.397184],\n",
    "    [-34.599409, -58.397181],\n",
    "    [-34.599493, -58.397177]\n",
    "]"
   ]
  },
  {
   "cell_type": "code",
   "execution_count": 154,
   "metadata": {},
   "outputs": [
    {
     "data": {
      "text/plain": [
       "<folium.map.Marker at 0x1b2d051bf10>"
      ]
     },
     "execution_count": 154,
     "metadata": {},
     "output_type": "execute_result"
    }
   ],
   "source": [
    "#agregar marcadores en las coordenadas\n",
    "folium.Marker(\n",
    "    location=[-34.599274, -58.397186], \n",
    "    icon=folium.Icon(color=\"red\", icon='home'),\n",
    "    popup=\"Junin 831\",\n",
    "    ).add_to(mapa)"
   ]
  },
  {
   "cell_type": "code",
   "execution_count": 155,
   "metadata": {},
   "outputs": [
    {
     "data": {
      "text/plain": [
       "<folium.map.Marker at 0x1b2d0518f40>"
      ]
     },
     "execution_count": 155,
     "metadata": {},
     "output_type": "execute_result"
    }
   ],
   "source": [
    "folium.Marker(\n",
    "    location=[-34.598870, -58.397202], \n",
    "    icon=folium.Icon(color=\"red\", icon='home'),\n",
    "    popup=\"Junin 879\",\n",
    "    ).add_to(mapa)"
   ]
  },
  {
   "cell_type": "code",
   "execution_count": 156,
   "metadata": {},
   "outputs": [
    {
     "data": {
      "text/plain": [
       "<folium.map.Marker at 0x1b2d051a890>"
      ]
     },
     "execution_count": 156,
     "metadata": {},
     "output_type": "execute_result"
    }
   ],
   "source": [
    "folium.Marker(\n",
    "    location=[location[0][0], location[0][0]], \n",
    "    icon=folium.Icon(color=\"blue\")\n",
    "    ).add_to(mapa)"
   ]
  },
  {
   "cell_type": "code",
   "execution_count": 157,
   "metadata": {},
   "outputs": [
    {
     "data": {
      "text/plain": [
       "<folium.map.Marker at 0x1b2d051b850>"
      ]
     },
     "execution_count": 157,
     "metadata": {},
     "output_type": "execute_result"
    }
   ],
   "source": [
    "folium.Marker(\n",
    "    location=[location[1][0], location[1][1]], \n",
    "    icon=folium.Icon(color=\"gray\")\n",
    "    ).add_to(mapa)"
   ]
  },
  {
   "cell_type": "code",
   "execution_count": 158,
   "metadata": {},
   "outputs": [
    {
     "data": {
      "text/plain": [
       "<folium.map.Marker at 0x1b2d0519870>"
      ]
     },
     "execution_count": 158,
     "metadata": {},
     "output_type": "execute_result"
    }
   ],
   "source": [
    "folium.Marker(\n",
    "    location=[location[2][0], location[2][1]], \n",
    "    icon=folium.Icon(color=\"purple\")\n",
    "    ).add_to(mapa)"
   ]
  },
  {
   "cell_type": "code",
   "execution_count": 159,
   "metadata": {},
   "outputs": [
    {
     "data": {
      "text/plain": [
       "<folium.map.Marker at 0x1b2d051bdc0>"
      ]
     },
     "execution_count": 159,
     "metadata": {},
     "output_type": "execute_result"
    }
   ],
   "source": [
    "folium.Marker(\n",
    "    location=[location[3][0], location[3][1]], \n",
    "    icon=folium.Icon(color=\"orange\")\n",
    "    ).add_to(mapa)"
   ]
  },
  {
   "cell_type": "code",
   "execution_count": 160,
   "metadata": {},
   "outputs": [
    {
     "data": {
      "text/plain": [
       "<folium.map.Marker at 0x1b2d051a350>"
      ]
     },
     "execution_count": 160,
     "metadata": {},
     "output_type": "execute_result"
    }
   ],
   "source": [
    "folium.Marker(\n",
    "    location=[location[4][0], location[4][1]], \n",
    "    icon=folium.Icon(color=\"cadetblue\")\n",
    "    ).add_to(mapa)"
   ]
  },
  {
   "cell_type": "code",
   "execution_count": 161,
   "metadata": {},
   "outputs": [],
   "source": [
    "# folium.Marker(\n",
    "#     location=[location[5][0], location[5][1]], \n",
    "#     icon=folium.Icon(color=\"cadetblue\")\n",
    "#     ).add_to(mapa)"
   ]
  },
  {
   "cell_type": "code",
   "execution_count": 162,
   "metadata": {},
   "outputs": [],
   "source": [
    "# folium.Marker(\n",
    "#     location=[location[6][0], location[6][1]], \n",
    "#     icon=folium.Icon(color=\"pink\")\n",
    "#     ).add_to(mapa)"
   ]
  },
  {
   "cell_type": "code",
   "execution_count": 163,
   "metadata": {},
   "outputs": [],
   "source": [
    "# folium.Marker(\n",
    "#     location=[location[7][0], location[7][1]], \n",
    "#     icon=folium.Icon(color=\"beige\")\n",
    "#     ).add_to(mapa)"
   ]
  },
  {
   "cell_type": "code",
   "execution_count": 164,
   "metadata": {},
   "outputs": [],
   "source": [
    "# folium.Marker(\n",
    "#     location=[location[8][0], location[8][1]], \n",
    "#     icon=folium.Icon(color=\"lightblue\")\n",
    "#     ).add_to(mapa)"
   ]
  },
  {
   "cell_type": "code",
   "execution_count": 165,
   "metadata": {},
   "outputs": [
    {
     "data": {
      "text/html": [
       "<div style=\"width:100%;\"><div style=\"position:relative;width:100%;height:0;padding-bottom:60%;\"><span style=\"color:#565656\">Make this Notebook Trusted to load map: File -> Trust Notebook</span><iframe srcdoc=\"&lt;!DOCTYPE html&gt;\n",
       "&lt;html&gt;\n",
       "&lt;head&gt;\n",
       "    \n",
       "    &lt;meta http-equiv=&quot;content-type&quot; content=&quot;text/html; charset=UTF-8&quot; /&gt;\n",
       "    \n",
       "        &lt;script&gt;\n",
       "            L_NO_TOUCH = false;\n",
       "            L_DISABLE_3D = false;\n",
       "        &lt;/script&gt;\n",
       "    \n",
       "    &lt;style&gt;html, body {width: 100%;height: 100%;margin: 0;padding: 0;}&lt;/style&gt;\n",
       "    &lt;style&gt;#map {position:absolute;top:0;bottom:0;right:0;left:0;}&lt;/style&gt;\n",
       "    &lt;script src=&quot;https://cdn.jsdelivr.net/npm/leaflet@1.9.3/dist/leaflet.js&quot;&gt;&lt;/script&gt;\n",
       "    &lt;script src=&quot;https://code.jquery.com/jquery-1.12.4.min.js&quot;&gt;&lt;/script&gt;\n",
       "    &lt;script src=&quot;https://cdn.jsdelivr.net/npm/bootstrap@5.2.2/dist/js/bootstrap.bundle.min.js&quot;&gt;&lt;/script&gt;\n",
       "    &lt;script src=&quot;https://cdnjs.cloudflare.com/ajax/libs/Leaflet.awesome-markers/2.0.2/leaflet.awesome-markers.js&quot;&gt;&lt;/script&gt;\n",
       "    &lt;link rel=&quot;stylesheet&quot; href=&quot;https://cdn.jsdelivr.net/npm/leaflet@1.9.3/dist/leaflet.css&quot;/&gt;\n",
       "    &lt;link rel=&quot;stylesheet&quot; href=&quot;https://cdn.jsdelivr.net/npm/bootstrap@5.2.2/dist/css/bootstrap.min.css&quot;/&gt;\n",
       "    &lt;link rel=&quot;stylesheet&quot; href=&quot;https://netdna.bootstrapcdn.com/bootstrap/3.0.0/css/bootstrap.min.css&quot;/&gt;\n",
       "    &lt;link rel=&quot;stylesheet&quot; href=&quot;https://cdn.jsdelivr.net/npm/@fortawesome/fontawesome-free@6.2.0/css/all.min.css&quot;/&gt;\n",
       "    &lt;link rel=&quot;stylesheet&quot; href=&quot;https://cdnjs.cloudflare.com/ajax/libs/Leaflet.awesome-markers/2.0.2/leaflet.awesome-markers.css&quot;/&gt;\n",
       "    &lt;link rel=&quot;stylesheet&quot; href=&quot;https://cdn.jsdelivr.net/gh/python-visualization/folium/folium/templates/leaflet.awesome.rotate.min.css&quot;/&gt;\n",
       "    \n",
       "            &lt;meta name=&quot;viewport&quot; content=&quot;width=device-width,\n",
       "                initial-scale=1.0, maximum-scale=1.0, user-scalable=no&quot; /&gt;\n",
       "            &lt;style&gt;\n",
       "                #map_8d58d603b86e2f5fb37e83863d5b8f79 {\n",
       "                    position: relative;\n",
       "                    width: 100.0%;\n",
       "                    height: 100.0%;\n",
       "                    left: 0.0%;\n",
       "                    top: 0.0%;\n",
       "                }\n",
       "                .leaflet-container { font-size: 1rem; }\n",
       "            &lt;/style&gt;\n",
       "        \n",
       "&lt;/head&gt;\n",
       "&lt;body&gt;\n",
       "    \n",
       "    \n",
       "            &lt;div class=&quot;folium-map&quot; id=&quot;map_8d58d603b86e2f5fb37e83863d5b8f79&quot; &gt;&lt;/div&gt;\n",
       "        \n",
       "&lt;/body&gt;\n",
       "&lt;script&gt;\n",
       "    \n",
       "    \n",
       "            var map_8d58d603b86e2f5fb37e83863d5b8f79 = L.map(\n",
       "                &quot;map_8d58d603b86e2f5fb37e83863d5b8f79&quot;,\n",
       "                {\n",
       "                    center: [-34.599, -58.397],\n",
       "                    crs: L.CRS.EPSG3857,\n",
       "                    zoom: 25,\n",
       "                    zoomControl: true,\n",
       "                    preferCanvas: false,\n",
       "                }\n",
       "            );\n",
       "\n",
       "            \n",
       "\n",
       "        \n",
       "    \n",
       "            var tile_layer_0f489bff10fad7d85053299d7630d3b9 = L.tileLayer(\n",
       "                &quot;https://{s}.tile.openstreetmap.org/{z}/{x}/{y}.png&quot;,\n",
       "                {&quot;attribution&quot;: &quot;Data by \\u0026copy; \\u003ca target=\\&quot;_blank\\&quot; href=\\&quot;http://openstreetmap.org\\&quot;\\u003eOpenStreetMap\\u003c/a\\u003e, under \\u003ca target=\\&quot;_blank\\&quot; href=\\&quot;http://www.openstreetmap.org/copyright\\&quot;\\u003eODbL\\u003c/a\\u003e.&quot;, &quot;detectRetina&quot;: false, &quot;maxNativeZoom&quot;: 18, &quot;maxZoom&quot;: 18, &quot;minZoom&quot;: 0, &quot;noWrap&quot;: false, &quot;opacity&quot;: 1, &quot;subdomains&quot;: &quot;abc&quot;, &quot;tms&quot;: false}\n",
       "            ).addTo(map_8d58d603b86e2f5fb37e83863d5b8f79);\n",
       "        \n",
       "    \n",
       "            var marker_853722611e45eb6196e67d0f18d9e161 = L.marker(\n",
       "                [-34.599274, -58.397186],\n",
       "                {}\n",
       "            ).addTo(map_8d58d603b86e2f5fb37e83863d5b8f79);\n",
       "        \n",
       "    \n",
       "            var icon_2afd7a8c2e375483ef333b9d0b273dbd = L.AwesomeMarkers.icon(\n",
       "                {&quot;extraClasses&quot;: &quot;fa-rotate-0&quot;, &quot;icon&quot;: &quot;home&quot;, &quot;iconColor&quot;: &quot;white&quot;, &quot;markerColor&quot;: &quot;red&quot;, &quot;prefix&quot;: &quot;glyphicon&quot;}\n",
       "            );\n",
       "            marker_853722611e45eb6196e67d0f18d9e161.setIcon(icon_2afd7a8c2e375483ef333b9d0b273dbd);\n",
       "        \n",
       "    \n",
       "        var popup_e9d17f58667304dcada35285b05bbd2f = L.popup({&quot;maxWidth&quot;: &quot;100%&quot;});\n",
       "\n",
       "        \n",
       "            \n",
       "                var html_eac28689516d6d1336d154fefe590851 = $(`&lt;div id=&quot;html_eac28689516d6d1336d154fefe590851&quot; style=&quot;width: 100.0%; height: 100.0%;&quot;&gt;Junin 831&lt;/div&gt;`)[0];\n",
       "                popup_e9d17f58667304dcada35285b05bbd2f.setContent(html_eac28689516d6d1336d154fefe590851);\n",
       "            \n",
       "        \n",
       "\n",
       "        marker_853722611e45eb6196e67d0f18d9e161.bindPopup(popup_e9d17f58667304dcada35285b05bbd2f)\n",
       "        ;\n",
       "\n",
       "        \n",
       "    \n",
       "    \n",
       "            var marker_5fc210d6970c1992c1c7444371caefff = L.marker(\n",
       "                [-34.59887, -58.397202],\n",
       "                {}\n",
       "            ).addTo(map_8d58d603b86e2f5fb37e83863d5b8f79);\n",
       "        \n",
       "    \n",
       "            var icon_7eddfe044df85ad01f34c36f3e00b50c = L.AwesomeMarkers.icon(\n",
       "                {&quot;extraClasses&quot;: &quot;fa-rotate-0&quot;, &quot;icon&quot;: &quot;home&quot;, &quot;iconColor&quot;: &quot;white&quot;, &quot;markerColor&quot;: &quot;red&quot;, &quot;prefix&quot;: &quot;glyphicon&quot;}\n",
       "            );\n",
       "            marker_5fc210d6970c1992c1c7444371caefff.setIcon(icon_7eddfe044df85ad01f34c36f3e00b50c);\n",
       "        \n",
       "    \n",
       "        var popup_86cb9e17efac1f89fd6a6a16b5e0a566 = L.popup({&quot;maxWidth&quot;: &quot;100%&quot;});\n",
       "\n",
       "        \n",
       "            \n",
       "                var html_561bd435691f913a471155b760dc5ef0 = $(`&lt;div id=&quot;html_561bd435691f913a471155b760dc5ef0&quot; style=&quot;width: 100.0%; height: 100.0%;&quot;&gt;Junin 879&lt;/div&gt;`)[0];\n",
       "                popup_86cb9e17efac1f89fd6a6a16b5e0a566.setContent(html_561bd435691f913a471155b760dc5ef0);\n",
       "            \n",
       "        \n",
       "\n",
       "        marker_5fc210d6970c1992c1c7444371caefff.bindPopup(popup_86cb9e17efac1f89fd6a6a16b5e0a566)\n",
       "        ;\n",
       "\n",
       "        \n",
       "    \n",
       "    \n",
       "            var marker_b15ae9e14e2ef19676b0966ce02cc037 = L.marker(\n",
       "                [-34.598735, -34.598735],\n",
       "                {}\n",
       "            ).addTo(map_8d58d603b86e2f5fb37e83863d5b8f79);\n",
       "        \n",
       "    \n",
       "            var icon_29c6824aecaa5d3e8155f50f3adf037f = L.AwesomeMarkers.icon(\n",
       "                {&quot;extraClasses&quot;: &quot;fa-rotate-0&quot;, &quot;icon&quot;: &quot;info-sign&quot;, &quot;iconColor&quot;: &quot;white&quot;, &quot;markerColor&quot;: &quot;blue&quot;, &quot;prefix&quot;: &quot;glyphicon&quot;}\n",
       "            );\n",
       "            marker_b15ae9e14e2ef19676b0966ce02cc037.setIcon(icon_29c6824aecaa5d3e8155f50f3adf037f);\n",
       "        \n",
       "    \n",
       "            var marker_76f3199023e05948ac859dff0a7ce11a = L.marker(\n",
       "                [-34.598819, -58.397204],\n",
       "                {}\n",
       "            ).addTo(map_8d58d603b86e2f5fb37e83863d5b8f79);\n",
       "        \n",
       "    \n",
       "            var icon_052c3ccbb468aa819c6c25a02c279d20 = L.AwesomeMarkers.icon(\n",
       "                {&quot;extraClasses&quot;: &quot;fa-rotate-0&quot;, &quot;icon&quot;: &quot;info-sign&quot;, &quot;iconColor&quot;: &quot;white&quot;, &quot;markerColor&quot;: &quot;gray&quot;, &quot;prefix&quot;: &quot;glyphicon&quot;}\n",
       "            );\n",
       "            marker_76f3199023e05948ac859dff0a7ce11a.setIcon(icon_052c3ccbb468aa819c6c25a02c279d20);\n",
       "        \n",
       "    \n",
       "            var marker_6c7d1ac6eefe8d5b643880d40d572b1c = L.marker(\n",
       "                [-34.599325, -58.397184],\n",
       "                {}\n",
       "            ).addTo(map_8d58d603b86e2f5fb37e83863d5b8f79);\n",
       "        \n",
       "    \n",
       "            var icon_fbec2ab637d98a71b6629ba672ac2f96 = L.AwesomeMarkers.icon(\n",
       "                {&quot;extraClasses&quot;: &quot;fa-rotate-0&quot;, &quot;icon&quot;: &quot;info-sign&quot;, &quot;iconColor&quot;: &quot;white&quot;, &quot;markerColor&quot;: &quot;purple&quot;, &quot;prefix&quot;: &quot;glyphicon&quot;}\n",
       "            );\n",
       "            marker_6c7d1ac6eefe8d5b643880d40d572b1c.setIcon(icon_fbec2ab637d98a71b6629ba672ac2f96);\n",
       "        \n",
       "    \n",
       "            var marker_430938c2702d1fd1c2c1d58794cc2a1f = L.marker(\n",
       "                [-34.599409, -58.397181],\n",
       "                {}\n",
       "            ).addTo(map_8d58d603b86e2f5fb37e83863d5b8f79);\n",
       "        \n",
       "    \n",
       "            var icon_be1e355cd3f1d979520d2ef69d02c520 = L.AwesomeMarkers.icon(\n",
       "                {&quot;extraClasses&quot;: &quot;fa-rotate-0&quot;, &quot;icon&quot;: &quot;info-sign&quot;, &quot;iconColor&quot;: &quot;white&quot;, &quot;markerColor&quot;: &quot;orange&quot;, &quot;prefix&quot;: &quot;glyphicon&quot;}\n",
       "            );\n",
       "            marker_430938c2702d1fd1c2c1d58794cc2a1f.setIcon(icon_be1e355cd3f1d979520d2ef69d02c520);\n",
       "        \n",
       "    \n",
       "            var marker_cc58bee7cf822e086e8932ee317c4299 = L.marker(\n",
       "                [-34.599493, -58.397177],\n",
       "                {}\n",
       "            ).addTo(map_8d58d603b86e2f5fb37e83863d5b8f79);\n",
       "        \n",
       "    \n",
       "            var icon_eb61c041f8657922ea38b75d2b36d3f1 = L.AwesomeMarkers.icon(\n",
       "                {&quot;extraClasses&quot;: &quot;fa-rotate-0&quot;, &quot;icon&quot;: &quot;info-sign&quot;, &quot;iconColor&quot;: &quot;white&quot;, &quot;markerColor&quot;: &quot;cadetblue&quot;, &quot;prefix&quot;: &quot;glyphicon&quot;}\n",
       "            );\n",
       "            marker_cc58bee7cf822e086e8932ee317c4299.setIcon(icon_eb61c041f8657922ea38b75d2b36d3f1);\n",
       "        \n",
       "    \n",
       "                var lat_lng_popup_b4ebfe180889d72a9cfdfc6a75f4873f = L.popup();\n",
       "                function latLngPop(e) {\n",
       "                    lat_lng_popup_b4ebfe180889d72a9cfdfc6a75f4873f\n",
       "                        .setLatLng(e.latlng)\n",
       "                        .setContent(&quot;Latitude: &quot; + e.latlng.lat.toFixed(4) +\n",
       "                                    &quot;&lt;br&gt;Longitude: &quot; + e.latlng.lng.toFixed(4))\n",
       "                        .openOn(map_8d58d603b86e2f5fb37e83863d5b8f79);\n",
       "                    }\n",
       "                map_8d58d603b86e2f5fb37e83863d5b8f79.on(&#x27;click&#x27;, latLngPop);\n",
       "            \n",
       "&lt;/script&gt;\n",
       "&lt;/html&gt;\" style=\"position:absolute;width:100%;height:100%;left:0;top:0;border:none !important;\" allowfullscreen webkitallowfullscreen mozallowfullscreen></iframe></div></div>"
      ],
      "text/plain": [
       "<folium.folium.Map at 0x1b2d05187c0>"
      ]
     },
     "execution_count": 165,
     "metadata": {},
     "output_type": "execute_result"
    }
   ],
   "source": [
    "mapa.add_child(folium.LatLngPopup())"
   ]
  }
 ],
 "metadata": {
  "kernelspec": {
   "display_name": "Python 3",
   "language": "python",
   "name": "python3"
  },
  "language_info": {
   "codemirror_mode": {
    "name": "ipython",
    "version": 3
   },
   "file_extension": ".py",
   "mimetype": "text/x-python",
   "name": "python",
   "nbconvert_exporter": "python",
   "pygments_lexer": "ipython3",
   "version": "3.10.9"
  },
  "orig_nbformat": 4,
  "vscode": {
   "interpreter": {
    "hash": "e6104bf604ca1a37923b4f279a3bc03307071c215727ed52dcf746e90ba65021"
   }
  }
 },
 "nbformat": 4,
 "nbformat_minor": 2
}
