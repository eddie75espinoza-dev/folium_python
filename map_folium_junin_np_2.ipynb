{
 "cells": [
  {
   "cell_type": "code",
   "execution_count": 101,
   "metadata": {},
   "outputs": [],
   "source": [
    "import folium"
   ]
  },
  {
   "cell_type": "code",
   "execution_count": 102,
   "metadata": {},
   "outputs": [],
   "source": [
    "#crear un mapa centrado en las coordenadas\n",
    "mapa = folium.Map(location=[-34.599,-58.397], zoom_start=25)"
   ]
  },
  {
   "cell_type": "code",
   "execution_count": 103,
   "metadata": {},
   "outputs": [],
   "source": [
    "location=[\n",
    "    [-34.598735, -58.397207],\n",
    "    [-34.59882, -58.397204],\n",
    "    [-34.599324, -58.397184],\n",
    "    [-34.599409, -58.397181],\n",
    "    [-34.599493, -58.397177]\n",
    "]"
   ]
  },
  {
   "cell_type": "code",
   "execution_count": 104,
   "metadata": {},
   "outputs": [
    {
     "data": {
      "text/plain": [
       "<folium.map.Marker at 0x23b8d80ec20>"
      ]
     },
     "execution_count": 104,
     "metadata": {},
     "output_type": "execute_result"
    }
   ],
   "source": [
    "#agregar marcadores en las coordenadas\n",
    "folium.Marker(\n",
    "    location=[-34.599274, -58.397186], \n",
    "    icon=folium.Icon(color=\"green\", icon=\"home\"),\n",
    "    popup=\"Junin 831\",\n",
    "    ).add_to(mapa)"
   ]
  },
  {
   "cell_type": "code",
   "execution_count": 105,
   "metadata": {},
   "outputs": [
    {
     "data": {
      "text/plain": [
       "<folium.map.Marker at 0x23b8d80fd60>"
      ]
     },
     "execution_count": 105,
     "metadata": {},
     "output_type": "execute_result"
    }
   ],
   "source": [
    "folium.Marker(\n",
    "    location=[-34.598870, -58.397202], \n",
    "    icon=folium.Icon(color=\"green\", icon=\"home\"),\n",
    "    popup=\"Junin 879\",\n",
    "    ).add_to(mapa)"
   ]
  },
  {
   "cell_type": "code",
   "execution_count": 106,
   "metadata": {},
   "outputs": [
    {
     "data": {
      "text/plain": [
       "<folium.map.Marker at 0x23b8d80f6a0>"
      ]
     },
     "execution_count": 106,
     "metadata": {},
     "output_type": "execute_result"
    }
   ],
   "source": [
    "folium.Marker(\n",
    "    location=[location[0][0], location[0][0]], \n",
    "    icon=folium.Icon(color=\"blue\")\n",
    "    ).add_to(mapa)"
   ]
  },
  {
   "cell_type": "code",
   "execution_count": 107,
   "metadata": {},
   "outputs": [
    {
     "data": {
      "text/plain": [
       "<folium.map.Marker at 0x23b8d80fd00>"
      ]
     },
     "execution_count": 107,
     "metadata": {},
     "output_type": "execute_result"
    }
   ],
   "source": [
    "folium.Marker(\n",
    "    location=[location[1][0], location[1][1]], \n",
    "    icon=folium.Icon(color=\"red\")\n",
    "    ).add_to(mapa)"
   ]
  },
  {
   "cell_type": "code",
   "execution_count": 108,
   "metadata": {},
   "outputs": [
    {
     "data": {
      "text/plain": [
       "<folium.map.Marker at 0x23b8d80ffd0>"
      ]
     },
     "execution_count": 108,
     "metadata": {},
     "output_type": "execute_result"
    }
   ],
   "source": [
    "folium.Marker(\n",
    "    location=[location[2][0], location[2][1]], \n",
    "    icon=folium.Icon(color=\"purple\")\n",
    "    ).add_to(mapa)"
   ]
  },
  {
   "cell_type": "code",
   "execution_count": 109,
   "metadata": {},
   "outputs": [
    {
     "data": {
      "text/plain": [
       "<folium.map.Marker at 0x23b8d80ff40>"
      ]
     },
     "execution_count": 109,
     "metadata": {},
     "output_type": "execute_result"
    }
   ],
   "source": [
    "folium.Marker(\n",
    "    location=[location[3][0], location[3][1]], \n",
    "    icon=folium.Icon(color=\"orange\")\n",
    "    ).add_to(mapa)"
   ]
  },
  {
   "cell_type": "code",
   "execution_count": 110,
   "metadata": {},
   "outputs": [
    {
     "data": {
      "text/plain": [
       "<folium.map.Marker at 0x23b8d80d4b0>"
      ]
     },
     "execution_count": 110,
     "metadata": {},
     "output_type": "execute_result"
    }
   ],
   "source": [
    "folium.Marker(\n",
    "    location=[location[4][0], location[4][1]], \n",
    "    icon=folium.Icon(color=\"darkred\")\n",
    "    ).add_to(mapa)"
   ]
  },
  {
   "cell_type": "code",
   "execution_count": 111,
   "metadata": {},
   "outputs": [
    {
     "data": {
      "text/html": [
       "<div style=\"width:100%;\"><div style=\"position:relative;width:100%;height:0;padding-bottom:60%;\"><span style=\"color:#565656\">Make this Notebook Trusted to load map: File -> Trust Notebook</span><iframe srcdoc=\"&lt;!DOCTYPE html&gt;\n",
       "&lt;html&gt;\n",
       "&lt;head&gt;\n",
       "    \n",
       "    &lt;meta http-equiv=&quot;content-type&quot; content=&quot;text/html; charset=UTF-8&quot; /&gt;\n",
       "    \n",
       "        &lt;script&gt;\n",
       "            L_NO_TOUCH = false;\n",
       "            L_DISABLE_3D = false;\n",
       "        &lt;/script&gt;\n",
       "    \n",
       "    &lt;style&gt;html, body {width: 100%;height: 100%;margin: 0;padding: 0;}&lt;/style&gt;\n",
       "    &lt;style&gt;#map {position:absolute;top:0;bottom:0;right:0;left:0;}&lt;/style&gt;\n",
       "    &lt;script src=&quot;https://cdn.jsdelivr.net/npm/leaflet@1.9.3/dist/leaflet.js&quot;&gt;&lt;/script&gt;\n",
       "    &lt;script src=&quot;https://code.jquery.com/jquery-1.12.4.min.js&quot;&gt;&lt;/script&gt;\n",
       "    &lt;script src=&quot;https://cdn.jsdelivr.net/npm/bootstrap@5.2.2/dist/js/bootstrap.bundle.min.js&quot;&gt;&lt;/script&gt;\n",
       "    &lt;script src=&quot;https://cdnjs.cloudflare.com/ajax/libs/Leaflet.awesome-markers/2.0.2/leaflet.awesome-markers.js&quot;&gt;&lt;/script&gt;\n",
       "    &lt;link rel=&quot;stylesheet&quot; href=&quot;https://cdn.jsdelivr.net/npm/leaflet@1.9.3/dist/leaflet.css&quot;/&gt;\n",
       "    &lt;link rel=&quot;stylesheet&quot; href=&quot;https://cdn.jsdelivr.net/npm/bootstrap@5.2.2/dist/css/bootstrap.min.css&quot;/&gt;\n",
       "    &lt;link rel=&quot;stylesheet&quot; href=&quot;https://netdna.bootstrapcdn.com/bootstrap/3.0.0/css/bootstrap.min.css&quot;/&gt;\n",
       "    &lt;link rel=&quot;stylesheet&quot; href=&quot;https://cdn.jsdelivr.net/npm/@fortawesome/fontawesome-free@6.2.0/css/all.min.css&quot;/&gt;\n",
       "    &lt;link rel=&quot;stylesheet&quot; href=&quot;https://cdnjs.cloudflare.com/ajax/libs/Leaflet.awesome-markers/2.0.2/leaflet.awesome-markers.css&quot;/&gt;\n",
       "    &lt;link rel=&quot;stylesheet&quot; href=&quot;https://cdn.jsdelivr.net/gh/python-visualization/folium/folium/templates/leaflet.awesome.rotate.min.css&quot;/&gt;\n",
       "    \n",
       "            &lt;meta name=&quot;viewport&quot; content=&quot;width=device-width,\n",
       "                initial-scale=1.0, maximum-scale=1.0, user-scalable=no&quot; /&gt;\n",
       "            &lt;style&gt;\n",
       "                #map_18a66fe9a1f42a5fb8512b7c1f93aa6c {\n",
       "                    position: relative;\n",
       "                    width: 100.0%;\n",
       "                    height: 100.0%;\n",
       "                    left: 0.0%;\n",
       "                    top: 0.0%;\n",
       "                }\n",
       "                .leaflet-container { font-size: 1rem; }\n",
       "            &lt;/style&gt;\n",
       "        \n",
       "&lt;/head&gt;\n",
       "&lt;body&gt;\n",
       "    \n",
       "    \n",
       "            &lt;div class=&quot;folium-map&quot; id=&quot;map_18a66fe9a1f42a5fb8512b7c1f93aa6c&quot; &gt;&lt;/div&gt;\n",
       "        \n",
       "&lt;/body&gt;\n",
       "&lt;script&gt;\n",
       "    \n",
       "    \n",
       "            var map_18a66fe9a1f42a5fb8512b7c1f93aa6c = L.map(\n",
       "                &quot;map_18a66fe9a1f42a5fb8512b7c1f93aa6c&quot;,\n",
       "                {\n",
       "                    center: [-34.599, -58.397],\n",
       "                    crs: L.CRS.EPSG3857,\n",
       "                    zoom: 25,\n",
       "                    zoomControl: true,\n",
       "                    preferCanvas: false,\n",
       "                }\n",
       "            );\n",
       "\n",
       "            \n",
       "\n",
       "        \n",
       "    \n",
       "            var tile_layer_ebf0cd6aec17d2b2f80856360e937cb9 = L.tileLayer(\n",
       "                &quot;https://{s}.tile.openstreetmap.org/{z}/{x}/{y}.png&quot;,\n",
       "                {&quot;attribution&quot;: &quot;Data by \\u0026copy; \\u003ca target=\\&quot;_blank\\&quot; href=\\&quot;http://openstreetmap.org\\&quot;\\u003eOpenStreetMap\\u003c/a\\u003e, under \\u003ca target=\\&quot;_blank\\&quot; href=\\&quot;http://www.openstreetmap.org/copyright\\&quot;\\u003eODbL\\u003c/a\\u003e.&quot;, &quot;detectRetina&quot;: false, &quot;maxNativeZoom&quot;: 18, &quot;maxZoom&quot;: 18, &quot;minZoom&quot;: 0, &quot;noWrap&quot;: false, &quot;opacity&quot;: 1, &quot;subdomains&quot;: &quot;abc&quot;, &quot;tms&quot;: false}\n",
       "            ).addTo(map_18a66fe9a1f42a5fb8512b7c1f93aa6c);\n",
       "        \n",
       "    \n",
       "            var marker_913660c8efec6e994bc3e8aa7c6950aa = L.marker(\n",
       "                [-34.599274, -58.397186],\n",
       "                {}\n",
       "            ).addTo(map_18a66fe9a1f42a5fb8512b7c1f93aa6c);\n",
       "        \n",
       "    \n",
       "            var icon_69cdfba9a31fb22c95a0ac024bed4ca4 = L.AwesomeMarkers.icon(\n",
       "                {&quot;extraClasses&quot;: &quot;fa-rotate-0&quot;, &quot;icon&quot;: &quot;home&quot;, &quot;iconColor&quot;: &quot;white&quot;, &quot;markerColor&quot;: &quot;green&quot;, &quot;prefix&quot;: &quot;glyphicon&quot;}\n",
       "            );\n",
       "            marker_913660c8efec6e994bc3e8aa7c6950aa.setIcon(icon_69cdfba9a31fb22c95a0ac024bed4ca4);\n",
       "        \n",
       "    \n",
       "        var popup_da79d52c5eb018cf64f67f6ac1d3de05 = L.popup({&quot;maxWidth&quot;: &quot;100%&quot;});\n",
       "\n",
       "        \n",
       "            \n",
       "                var html_ed5a5874293c04f8f38cf0e15fe5d712 = $(`&lt;div id=&quot;html_ed5a5874293c04f8f38cf0e15fe5d712&quot; style=&quot;width: 100.0%; height: 100.0%;&quot;&gt;Junin 831&lt;/div&gt;`)[0];\n",
       "                popup_da79d52c5eb018cf64f67f6ac1d3de05.setContent(html_ed5a5874293c04f8f38cf0e15fe5d712);\n",
       "            \n",
       "        \n",
       "\n",
       "        marker_913660c8efec6e994bc3e8aa7c6950aa.bindPopup(popup_da79d52c5eb018cf64f67f6ac1d3de05)\n",
       "        ;\n",
       "\n",
       "        \n",
       "    \n",
       "    \n",
       "            var marker_5bd9ec441356e1eeb67481c58c06a49c = L.marker(\n",
       "                [-34.59887, -58.397202],\n",
       "                {}\n",
       "            ).addTo(map_18a66fe9a1f42a5fb8512b7c1f93aa6c);\n",
       "        \n",
       "    \n",
       "            var icon_d41aa2ca24ddfa025b15860072827054 = L.AwesomeMarkers.icon(\n",
       "                {&quot;extraClasses&quot;: &quot;fa-rotate-0&quot;, &quot;icon&quot;: &quot;home&quot;, &quot;iconColor&quot;: &quot;white&quot;, &quot;markerColor&quot;: &quot;green&quot;, &quot;prefix&quot;: &quot;glyphicon&quot;}\n",
       "            );\n",
       "            marker_5bd9ec441356e1eeb67481c58c06a49c.setIcon(icon_d41aa2ca24ddfa025b15860072827054);\n",
       "        \n",
       "    \n",
       "        var popup_599b66471ff973dd1013d209f1ee2948 = L.popup({&quot;maxWidth&quot;: &quot;100%&quot;});\n",
       "\n",
       "        \n",
       "            \n",
       "                var html_5d6a16e7232ea03e3d23164852b64046 = $(`&lt;div id=&quot;html_5d6a16e7232ea03e3d23164852b64046&quot; style=&quot;width: 100.0%; height: 100.0%;&quot;&gt;Junin 879&lt;/div&gt;`)[0];\n",
       "                popup_599b66471ff973dd1013d209f1ee2948.setContent(html_5d6a16e7232ea03e3d23164852b64046);\n",
       "            \n",
       "        \n",
       "\n",
       "        marker_5bd9ec441356e1eeb67481c58c06a49c.bindPopup(popup_599b66471ff973dd1013d209f1ee2948)\n",
       "        ;\n",
       "\n",
       "        \n",
       "    \n",
       "    \n",
       "            var marker_986a693b81d158a0b27d398014c8d0b8 = L.marker(\n",
       "                [-34.598735, -34.598735],\n",
       "                {}\n",
       "            ).addTo(map_18a66fe9a1f42a5fb8512b7c1f93aa6c);\n",
       "        \n",
       "    \n",
       "            var icon_b6f2d38255c5d6f72b26168b66696418 = L.AwesomeMarkers.icon(\n",
       "                {&quot;extraClasses&quot;: &quot;fa-rotate-0&quot;, &quot;icon&quot;: &quot;info-sign&quot;, &quot;iconColor&quot;: &quot;white&quot;, &quot;markerColor&quot;: &quot;blue&quot;, &quot;prefix&quot;: &quot;glyphicon&quot;}\n",
       "            );\n",
       "            marker_986a693b81d158a0b27d398014c8d0b8.setIcon(icon_b6f2d38255c5d6f72b26168b66696418);\n",
       "        \n",
       "    \n",
       "            var marker_6712f671907f2e3b59ed5a6e2cb92d38 = L.marker(\n",
       "                [-34.59882, -58.397204],\n",
       "                {}\n",
       "            ).addTo(map_18a66fe9a1f42a5fb8512b7c1f93aa6c);\n",
       "        \n",
       "    \n",
       "            var icon_e26839229a51a03c66ece8076ec13ce9 = L.AwesomeMarkers.icon(\n",
       "                {&quot;extraClasses&quot;: &quot;fa-rotate-0&quot;, &quot;icon&quot;: &quot;info-sign&quot;, &quot;iconColor&quot;: &quot;white&quot;, &quot;markerColor&quot;: &quot;red&quot;, &quot;prefix&quot;: &quot;glyphicon&quot;}\n",
       "            );\n",
       "            marker_6712f671907f2e3b59ed5a6e2cb92d38.setIcon(icon_e26839229a51a03c66ece8076ec13ce9);\n",
       "        \n",
       "    \n",
       "            var marker_81483f600c30e90f2e6e116c3bb169a5 = L.marker(\n",
       "                [-34.599324, -58.397184],\n",
       "                {}\n",
       "            ).addTo(map_18a66fe9a1f42a5fb8512b7c1f93aa6c);\n",
       "        \n",
       "    \n",
       "            var icon_cbc9733584bc7a31b64e17619e81d325 = L.AwesomeMarkers.icon(\n",
       "                {&quot;extraClasses&quot;: &quot;fa-rotate-0&quot;, &quot;icon&quot;: &quot;info-sign&quot;, &quot;iconColor&quot;: &quot;white&quot;, &quot;markerColor&quot;: &quot;purple&quot;, &quot;prefix&quot;: &quot;glyphicon&quot;}\n",
       "            );\n",
       "            marker_81483f600c30e90f2e6e116c3bb169a5.setIcon(icon_cbc9733584bc7a31b64e17619e81d325);\n",
       "        \n",
       "    \n",
       "            var marker_06b49890b6bfa0f63d2b8ddff64f3417 = L.marker(\n",
       "                [-34.599409, -58.397181],\n",
       "                {}\n",
       "            ).addTo(map_18a66fe9a1f42a5fb8512b7c1f93aa6c);\n",
       "        \n",
       "    \n",
       "            var icon_b8155b4d0a78ab35c3215927ae3cbc94 = L.AwesomeMarkers.icon(\n",
       "                {&quot;extraClasses&quot;: &quot;fa-rotate-0&quot;, &quot;icon&quot;: &quot;info-sign&quot;, &quot;iconColor&quot;: &quot;white&quot;, &quot;markerColor&quot;: &quot;orange&quot;, &quot;prefix&quot;: &quot;glyphicon&quot;}\n",
       "            );\n",
       "            marker_06b49890b6bfa0f63d2b8ddff64f3417.setIcon(icon_b8155b4d0a78ab35c3215927ae3cbc94);\n",
       "        \n",
       "    \n",
       "            var marker_b3fbae1fb938eadc8756fd0a774e9602 = L.marker(\n",
       "                [-34.599493, -58.397177],\n",
       "                {}\n",
       "            ).addTo(map_18a66fe9a1f42a5fb8512b7c1f93aa6c);\n",
       "        \n",
       "    \n",
       "            var icon_88397b3900e84d61950e7d4b35473515 = L.AwesomeMarkers.icon(\n",
       "                {&quot;extraClasses&quot;: &quot;fa-rotate-0&quot;, &quot;icon&quot;: &quot;info-sign&quot;, &quot;iconColor&quot;: &quot;white&quot;, &quot;markerColor&quot;: &quot;darkred&quot;, &quot;prefix&quot;: &quot;glyphicon&quot;}\n",
       "            );\n",
       "            marker_b3fbae1fb938eadc8756fd0a774e9602.setIcon(icon_88397b3900e84d61950e7d4b35473515);\n",
       "        \n",
       "    \n",
       "                var lat_lng_popup_8703e9a0ae0cf5a729e9134e458f2090 = L.popup();\n",
       "                function latLngPop(e) {\n",
       "                    lat_lng_popup_8703e9a0ae0cf5a729e9134e458f2090\n",
       "                        .setLatLng(e.latlng)\n",
       "                        .setContent(&quot;Latitude: &quot; + e.latlng.lat.toFixed(4) +\n",
       "                                    &quot;&lt;br&gt;Longitude: &quot; + e.latlng.lng.toFixed(4))\n",
       "                        .openOn(map_18a66fe9a1f42a5fb8512b7c1f93aa6c);\n",
       "                    }\n",
       "                map_18a66fe9a1f42a5fb8512b7c1f93aa6c.on(&#x27;click&#x27;, latLngPop);\n",
       "            \n",
       "&lt;/script&gt;\n",
       "&lt;/html&gt;\" style=\"position:absolute;width:100%;height:100%;left:0;top:0;border:none !important;\" allowfullscreen webkitallowfullscreen mozallowfullscreen></iframe></div></div>"
      ],
      "text/plain": [
       "<folium.folium.Map at 0x23b8d80de10>"
      ]
     },
     "execution_count": 111,
     "metadata": {},
     "output_type": "execute_result"
    }
   ],
   "source": [
    "mapa.add_child(folium.LatLngPopup())"
   ]
  }
 ],
 "metadata": {
  "kernelspec": {
   "display_name": "Python 3",
   "language": "python",
   "name": "python3"
  },
  "language_info": {
   "codemirror_mode": {
    "name": "ipython",
    "version": 3
   },
   "file_extension": ".py",
   "mimetype": "text/x-python",
   "name": "python",
   "nbconvert_exporter": "python",
   "pygments_lexer": "ipython3",
   "version": "3.10.9"
  },
  "orig_nbformat": 4,
  "vscode": {
   "interpreter": {
    "hash": "e6104bf604ca1a37923b4f279a3bc03307071c215727ed52dcf746e90ba65021"
   }
  }
 },
 "nbformat": 4,
 "nbformat_minor": 2
}
